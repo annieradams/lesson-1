{
 "cells": [
  {
   "cell_type": "markdown",
   "id": "a25875fb-154b-464f-9a16-ac0599d779d9",
   "metadata": {},
   "source": [
    "## Numpy \n",
    "- one of the core packages for numerical computing in python\n",
    "- many packages are built on top of numpy\n",
    "-numpy has been optimized for processing: faster due to memory access"
   ]
  },
  {
   "cell_type": "code",
   "execution_count": null,
   "id": "c15360f2-170b-48c0-8df5-118d0f955615",
   "metadata": {},
   "outputs": [],
   "source": []
  },
  {
   "cell_type": "code",
   "execution_count": 1,
   "id": "ff465a3b-0af5-4442-aff7-404b1cf63688",
   "metadata": {
    "tags": []
   },
   "outputs": [],
   "source": [
    "#import numpy with standard abbreviation\n",
    "import numpy as np"
   ]
  },
  {
   "cell_type": "markdown",
   "id": "64c9ffb7-b3e1-43df-97da-325820a2ef2e",
   "metadata": {},
   "source": [
    "### Variables\n",
    "We can think about variables as a name we assign to a particular object in python. for example"
   ]
  },
  {
   "cell_type": "code",
   "execution_count": 2,
   "id": "7b6ab24b-99ec-4c7f-8e84-12883cb5a227",
   "metadata": {
    "tags": []
   },
   "outputs": [],
   "source": [
    "# assign a small array to a variable a\n",
    "a = np.array ( [ [1,1,2], [3,5,8] ] )"
   ]
  },
  {
   "cell_type": "code",
   "execution_count": 3,
   "id": "8746f873-d096-4c1c-8076-75ad3bbb5e9b",
   "metadata": {
    "tags": []
   },
   "outputs": [
    {
     "data": {
      "text/plain": [
       "array([[1, 1, 2],\n",
       "       [3, 5, 8]])"
      ]
     },
     "execution_count": 3,
     "metadata": {},
     "output_type": "execute_result"
    }
   ],
   "source": [
    "a"
   ]
  },
  {
   "cell_type": "code",
   "execution_count": 4,
   "id": "36fb3d65-f290-4f0f-88ce-12771eabe4b2",
   "metadata": {
    "tags": []
   },
   "outputs": [
    {
     "name": "stdout",
     "output_type": "stream",
     "text": [
      "[[1 1 2]\n",
      " [3 5 8]]\n"
     ]
    }
   ],
   "source": [
    "print(a)"
   ]
  },
  {
   "cell_type": "markdown",
   "id": "70535d95-d446-4391-83a4-bff05b76df60",
   "metadata": {},
   "source": [
    "## Naming variables"
   ]
  },
  {
   "cell_type": "markdown",
   "id": "e8a3caec-2ea8-4af5-a6b8-e8a35c04e5f3",
   "metadata": {},
   "source": [
    "In this class, we are going to use `snake_case` for naming variables\n",
    "\n",
    "# variables and objects\n",
    "\n",
    "**object** often encountered in python documentation and tutorials\n",
    "\n",
    "object is a bundle of properties and actions about something specific\n",
    "\n",
    "Example: \n",
    "- object : data frame\n",
    "- properties: numer of rows, names of columns, data created\n",
    "- actions: seleting a row, adding a column\n",
    "\n",
    "A variable isi a name we give a specific object, and the same object can be referenced by different variables \n",
    "\n",
    "Exampple: \n",
    "- The sun ( actual start) = object\n",
    "- sol = spanish work for sun = variable\n",
    "- soleil = french for sun = another variable\n",
    "\n",
    "In practice: we will use object and variable interchangably"
   ]
  },
  {
   "cell_type": "markdown",
   "id": "a5d9bc1c-68b6-4afe-964a-80dc72346cc2",
   "metadata": {},
   "source": [
    "# Types \n",
    "Each object in python has a type.\n",
    "\n",
    "type = what kind of object it is\n",
    "\n",
    "We can also call the type of the object, the **class** of the object\n",
    "\n",
    "We can see the type / class of an object by using the `type` function: "
   ]
  },
  {
   "cell_type": "code",
   "execution_count": 6,
   "id": "1124dc5e-3208-47c7-9cd9-223a4a307c4b",
   "metadata": {
    "tags": []
   },
   "outputs": [
    {
     "name": "stdout",
     "output_type": "stream",
     "text": [
      "[[1 1 2]\n",
      " [3 5 8]]\n"
     ]
    },
    {
     "data": {
      "text/plain": [
       "numpy.ndarray"
      ]
     },
     "execution_count": 6,
     "metadata": {},
     "output_type": "execute_result"
    }
   ],
   "source": [
    "print(a)\n",
    "type(a)"
   ]
  },
  {
   "cell_type": "markdown",
   "id": "9f48b6c9-41d3-4b1f-9b26-bb14babd7546",
   "metadata": {},
   "source": [
    "The `numpy.ndarray` is the core object / data type in the NumPy package. we can check the type of the entry in the array by indexing: "
   ]
  },
  {
   "cell_type": "code",
   "execution_count": 8,
   "id": "443bd8af-933b-434e-ae0c-19a580dbafe5",
   "metadata": {
    "tags": []
   },
   "outputs": [
    {
     "name": "stdout",
     "output_type": "stream",
     "text": [
      "1\n"
     ]
    },
    {
     "data": {
      "text/plain": [
       "numpy.int64"
      ]
     },
     "execution_count": 8,
     "metadata": {},
     "output_type": "execute_result"
    }
   ],
   "source": [
    "print(a[0,0])\n",
    "type(a[0,0])"
   ]
  },
  {
   "cell_type": "code",
   "execution_count": 10,
   "id": "b94eda64-f7a3-4aaf-a21d-6b1ac4515aa9",
   "metadata": {
    "tags": []
   },
   "outputs": [
    {
     "name": "stdout",
     "output_type": "stream",
     "text": [
      "5\n"
     ]
    }
   ],
   "source": [
    "# how to access value 5 in array a\n",
    "print(a[1,1])"
   ]
  },
  {
   "cell_type": "markdown",
   "id": "2623e3f9-6219-476b-a759-3c9eba72a62a",
   "metadata": {},
   "source": [
    "# Functions \n",
    "`print` was our example of a python function\n",
    "a function: \n",
    "- take in a set of **arguments**, separated by commas, and \n",
    "- use those arguments to produce some **output**\n",
    "\n",
    "argument = parameter \n",
    "\n",
    "We can ask information about a function by executing `?` followed by the function name\n"
   ]
  },
  {
   "cell_type": "code",
   "execution_count": 11,
   "id": "0ed8199d-b59b-4164-9363-0e43317224d7",
   "metadata": {
    "tags": []
   },
   "outputs": [
    {
     "data": {
      "text/plain": [
       "\u001b[0;31mDocstring:\u001b[0m\n",
       "print(value, ..., sep=' ', end='\\n', file=sys.stdout, flush=False)\n",
       "\n",
       "Prints the values to a stream, or to sys.stdout by default.\n",
       "Optional keyword arguments:\n",
       "file:  a file-like object (stream); defaults to the current sys.stdout.\n",
       "sep:   string inserted between values, default a space.\n",
       "end:   string appended after the last value, default a newline.\n",
       "flush: whether to forcibly flush the stream.\n",
       "\u001b[0;31mType:\u001b[0m      builtin_function_or_method\n"
      ]
     },
     "metadata": {},
     "output_type": "display_data"
    }
   ],
   "source": [
    "?print"
   ]
  },
  {
   "cell_type": "markdown",
   "id": "2335376a-d221-478a-a43e-31930499f7d5",
   "metadata": {},
   "source": [
    "- first line: function showing all of its arguments in parenthesis\n",
    "- then a short description of what the function does]\n",
    "- finally , a list of the arguments and a brief explanation of each of them\n",
    "\n",
    "Different types of arguments inside the parenthesis. Roughly speaking, there are two types of arguemnts: \n",
    "\n",
    "- **non-optional**: arguments you need to specify for the function to do something\n",
    "- **optional** : arguments that are pre filled with a default value by the function, but we can override them. Optional arguments appear inside the parenthesis () in the form \n",
    "\n",
    "`optional argument = default value`"
   ]
  },
  {
   "cell_type": "code",
   "execution_count": 12,
   "id": "b53eba34-b3f4-4461-afef-f0757421ba88",
   "metadata": {
    "tags": []
   },
   "outputs": [
    {
     "name": "stdout",
     "output_type": "stream",
     "text": [
      "chagning the default end argument of the print function:)"
     ]
    }
   ],
   "source": [
    "print('chagning the default end argument of the print function', end = ':)')"
   ]
  },
  {
   "cell_type": "markdown",
   "id": "37492c2f-9e38-4fe2-a9fd-b7d26b84372a",
   "metadata": {},
   "source": [
    "# Attributes and Methods\n",
    "\n",
    "An object in python has attributes and methods. \n",
    "- **attributes**: a property of an object, a piece of information about it. \n",
    "- **method**: a procedure associated with an object, an action where the main ingreedient is the object itself\n",
    "\n",
    "Access a variable's atrributes and methods by adding a period `.` at the end of the variables name\n",
    "\n",
    "`variable.variable_method()` or\n",
    "`variable.variable_attribute`\n",
    "\n",
    "Examples: \n",
    "Methods and attributes of numpy arrays: "
   ]
  },
  {
   "cell_type": "code",
   "execution_count": 1,
   "id": "59d0a773-bab6-4aac-b62b-e56efbc0919b",
   "metadata": {
    "tags": []
   },
   "outputs": [],
   "source": [
    "import numpy as np"
   ]
  },
  {
   "cell_type": "code",
   "execution_count": 2,
   "id": "0448a918-0c31-4fb1-b576-1e1ece3c0945",
   "metadata": {
    "tags": []
   },
   "outputs": [
    {
     "data": {
      "text/plain": [
       "array([[1, 2, 3],\n",
       "       [4, 5, 6],\n",
       "       [7, 8, 9]])"
      ]
     },
     "execution_count": 2,
     "metadata": {},
     "output_type": "execute_result"
    }
   ],
   "source": [
    "#define a 3x3 array\n",
    "\n",
    "var = np.array([ [1,2,3], [4,5,6], [7,8,9] ])\n",
    "var"
   ]
  },
  {
   "cell_type": "code",
   "execution_count": 3,
   "id": "456c268f-55ee-48e2-b4ca-2ad0353326a6",
   "metadata": {
    "tags": []
   },
   "outputs": [
    {
     "data": {
      "text/plain": [
       "(3, 3)"
      ]
     },
     "execution_count": 3,
     "metadata": {},
     "output_type": "execute_result"
    }
   ],
   "source": [
    "# shape: an attribute telling us the number of elements in each dimmension of the array\n",
    "var.shape"
   ]
  },
  {
   "cell_type": "code",
   "execution_count": 4,
   "id": "032c32d3-fb33-443c-af5a-ec40cd06efe9",
   "metadata": {
    "tags": []
   },
   "outputs": [
    {
     "data": {
      "text/plain": [
       "tuple"
      ]
     },
     "execution_count": 4,
     "metadata": {},
     "output_type": "execute_result"
    }
   ],
   "source": [
    "type(var.shape)"
   ]
  },
  {
   "cell_type": "code",
   "execution_count": 5,
   "id": "50b9d89a-bac5-46cb-ab87-af6a134d80da",
   "metadata": {
    "tags": []
   },
   "outputs": [
    {
     "data": {
      "text/plain": [
       "2"
      ]
     },
     "execution_count": 5,
     "metadata": {},
     "output_type": "execute_result"
    }
   ],
   "source": [
    "#ndim is an attribute holding the number of array dimmensions\n",
    "\n",
    "var.ndim"
   ]
  },
  {
   "cell_type": "code",
   "execution_count": 6,
   "id": "960777f4-c43f-447c-b747-f4e1c5900eca",
   "metadata": {
    "tags": []
   },
   "outputs": [
    {
     "data": {
      "text/plain": [
       "int"
      ]
     },
     "execution_count": 6,
     "metadata": {},
     "output_type": "execute_result"
    }
   ],
   "source": [
    "type(var.ndim)"
   ]
  },
  {
   "cell_type": "markdown",
   "id": "1d1da0b9-f7ca-4ff3-91a1-2a2e00bdd2bb",
   "metadata": {},
   "source": [
    "# R & Python\n",
    "R:\n",
    "-doesnt use methods within an object\n",
    "functions in R are extrinsinc to(outside) the object they are acting on\n",
    "\n",
    "Example: recreate getting the min value in an array\n",
    "\n",
    "In R there would be two seprate items : the variable `var` as a parameter:\n",
    "\n",
    "```\n",
    "#this is R code\n",
    "var <- array(c(1,4,7,2,5,8,3,6,9) , dim(c(3,3) )\n",
    "min(var)\n",
    "```\n",
    "\n",
    "using the pipe operator %>% in R's tidyverse is closer to the `.` in python:\n",
    "\n",
    "```\n",
    "var <- array(c(1,2,3,4,5,6,7,8,9), dim = c(3,3))\n",
    "var %>% min()\n",
    "\n",
    "```\n",
    "\n",
    "What is happening?\n",
    "the pipe `%>%` is passing `var` to the `min()` as it first argument. This is essentially the `.` in python\n"
   ]
  },
  {
   "cell_type": "code",
   "execution_count": null,
   "id": "f5b3c24e-f8fd-4f29-a1f1-a89a53b95ecf",
   "metadata": {},
   "outputs": [],
   "source": []
  }
 ],
 "metadata": {
  "kernelspec": {
   "display_name": "Anaconda 3 (Base)",
   "language": "python",
   "name": "base"
  },
  "language_info": {
   "codemirror_mode": {
    "name": "ipython",
    "version": 3
   },
   "file_extension": ".py",
   "mimetype": "text/x-python",
   "name": "python",
   "nbconvert_exporter": "python",
   "pygments_lexer": "ipython3",
   "version": "3.9.13"
  }
 },
 "nbformat": 4,
 "nbformat_minor": 5
}
