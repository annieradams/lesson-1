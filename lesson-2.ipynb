{
 "cells": [
  {
   "cell_type": "markdown",
   "id": "1b3d06f7-098e-456a-8a90-081603f53c68",
   "metadata": {},
   "source": [
    "# Objectives: \n",
    "- Review core `pandas` objects : `pandas.Series` and `pandas.DataFrame`\n",
    "\n",
    "# `Pandas`\n",
    "- python packages to wrangle and analyze tabular data\n",
    "- built in on top of numpy\n",
    "- core tool for data analysis in python\n"
   ]
  },
  {
   "cell_type": "code",
   "execution_count": 1,
   "id": "3c4d6a95-9174-4f7f-a4d0-b07c399e6440",
   "metadata": {
    "tags": []
   },
   "outputs": [],
   "source": [
    "#import pandas with standard abbreviation\n",
    "import pandas as pd\n",
    "import numpy as np"
   ]
  },
  {
   "cell_type": "markdown",
   "id": "2316d827-bca7-4d1e-a67c-d4e51bfdba84",
   "metadata": {},
   "source": [
    "# Series\n",
    "\n",
    "A `panda.Series` :\n",
    "- is one of the core data structures in `pandas`\n",
    "- a 1 - dimmensional array of *indexed* data\n",
    "- will be the columns of the `pandas.DataFrame`\n",
    "\n",
    "# Creating a pandas series\n",
    "several ways of creating\n",
    "For now, we will create series using:\n",
    "\n",
    "```\n",
    "s = pd.Series(data, index = index)\n",
    "```\n",
    "\n",
    "-`data` = numpy array ( or a list of objects than can be converted to NumPy typess)\n",
    "-`index` = a list of indices or same length as data"
   ]
  },
  {
   "cell_type": "code",
   "execution_count": 5,
   "id": "d5f3bcce-49e2-4873-bf0e-6583688002b2",
   "metadata": {
    "tags": []
   },
   "outputs": [
    {
     "data": {
      "text/plain": [
       "a    0\n",
       "b    1\n",
       "c    2\n",
       "dtype: int64"
      ]
     },
     "execution_count": 5,
     "metadata": {},
     "output_type": "execute_result"
    }
   ],
   "source": [
    "# ExL a pandas series from a numpy array\n",
    "\n",
    "np.arange(3)\n",
    "pd.Series(np.arange(3), index = ['a','b','c']) # parameter is optional parameter and if we want to see it, we need to specify"
   ]
  },
  {
   "cell_type": "code",
   "execution_count": 6,
   "id": "923ab9fb-eea3-4ddb-b4f6-345bf91e75d0",
   "metadata": {
    "tags": []
   },
   "outputs": [
    {
     "data": {
      "text/plain": [
       "0    EDS 220\n",
       "1    EDS 222\n",
       "2    EDS 223\n",
       "3    EDS 242\n",
       "dtype: object"
      ]
     },
     "execution_count": 6,
     "metadata": {},
     "output_type": "execute_result"
    }
   ],
   "source": [
    "#Create a series from a list of strings with defaultl index ( starting from 0 1 2 3)\n",
    "pd.Series(['EDS 220','EDS 222','EDS 223', 'EDS 242'])"
   ]
  },
  {
   "cell_type": "markdown",
   "id": "dad2c607-1def-4132-ba93-ba958311b87d",
   "metadata": {},
   "source": [
    "# Operation of Series\n",
    "Arithmetic operations work on series and also on most NumPy functions:\n",
    "\n",
    "Example:"
   ]
  },
  {
   "cell_type": "code",
   "execution_count": 9,
   "id": "5184927e-2a7c-444d-8f01-d1ac26bd1ff5",
   "metadata": {
    "tags": []
   },
   "outputs": [
    {
     "name": "stdout",
     "output_type": "stream",
     "text": [
      "Andrea      98\n",
      "Beth        73\n",
      "Carolina    65\n",
      "dtype: int64 \n",
      "\n",
      "Andrea      9.8\n",
      "Beth        7.3\n",
      "Carolina    6.5\n",
      "dtype: float64\n"
     ]
    }
   ],
   "source": [
    "#define a series\n",
    "s = pd.Series( [98,73,65], index = ['Andrea','Beth','Carolina'])\n",
    "print(s, '\\n')\n",
    "\n",
    "#divide each element in the series by 10:\n",
    "print(s/10)"
   ]
  },
  {
   "cell_type": "markdown",
   "id": "7281a03f-dd6a-427b-8a23-65d5d1391bf5",
   "metadata": {},
   "source": [
    "Example: Create a new series with `True`/`False` values indicating whether the elements in the series satisfy a condition or not\n",
    "\n"
   ]
  },
  {
   "cell_type": "code",
   "execution_count": 10,
   "id": "cd7384d2-42e6-45af-8473-16596c57d27e",
   "metadata": {
    "tags": []
   },
   "outputs": [
    {
     "data": {
      "text/plain": [
       "Andrea       True\n",
       "Beth         True\n",
       "Carolina    False\n",
       "dtype: bool"
      ]
     },
     "execution_count": 10,
     "metadata": {},
     "output_type": "execute_result"
    }
   ],
   "source": [
    "s>70"
   ]
  },
  {
   "cell_type": "markdown",
   "id": "456262bc-7dbb-4cf0-a30e-c2a52ba885ff",
   "metadata": {},
   "source": [
    "This is simple but important, using conditions on series is key to select data from dataframes"
   ]
  },
  {
   "cell_type": "markdown",
   "id": "cce7dff4-7aa8-4d2a-9353-9c3bf91a78c4",
   "metadata": {},
   "source": [
    "## Attributes and Methods\n",
    " two examples about missing values\n",
    " \n",
    " - missing values in `pandas` are represented by `np.NaN` = not a number\n",
    " - `NaN` is a type of float in numpy"
   ]
  },
  {
   "cell_type": "code",
   "execution_count": 11,
   "id": "d810ab51-b74f-4293-931a-c8ec6e5299b5",
   "metadata": {
    "tags": []
   },
   "outputs": [
    {
     "data": {
      "text/plain": [
       "nan"
      ]
     },
     "execution_count": 11,
     "metadata": {},
     "output_type": "execute_result"
    }
   ],
   "source": [
    "np.NaN"
   ]
  },
  {
   "cell_type": "code",
   "execution_count": 12,
   "id": "32979e8c-b1a9-4bd0-a01d-a776b2dcb165",
   "metadata": {
    "tags": []
   },
   "outputs": [
    {
     "data": {
      "text/plain": [
       "float"
      ]
     },
     "execution_count": 12,
     "metadata": {},
     "output_type": "execute_result"
    }
   ],
   "source": [
    "type(np.NaN)"
   ]
  },
  {
   "cell_type": "code",
   "execution_count": 15,
   "id": "4e512cf9-99be-4a97-920d-c1131f6a0f07",
   "metadata": {
    "tags": []
   },
   "outputs": [
    {
     "data": {
      "text/plain": [
       "0    1.0\n",
       "1    2.0\n",
       "2    NaN\n",
       "3    4.0\n",
       "4    NaN\n",
       "dtype: float64"
      ]
     },
     "execution_count": 15,
     "metadata": {},
     "output_type": "execute_result"
    }
   ],
   "source": [
    "#series with NAs in it:\n",
    "s = pd.Series([1,2, np.NaN, 4, np.NaN])\n",
    "s"
   ]
  },
  {
   "cell_type": "markdown",
   "id": "4a2f9d28-0695-409b-8338-48d257585672",
   "metadata": {},
   "source": [
    "`hasnans` = attribute of pandas series, returns `True` if there are any NAs:\n",
    "    "
   ]
  },
  {
   "cell_type": "code",
   "execution_count": 16,
   "id": "4c4ee5e4-8e02-459c-a79f-1f179dbf0433",
   "metadata": {
    "tags": []
   },
   "outputs": [
    {
     "data": {
      "text/plain": [
       "True"
      ]
     },
     "execution_count": 16,
     "metadata": {},
     "output_type": "execute_result"
    }
   ],
   "source": [
    "#check if series has NAs\n",
    "s.hasnans"
   ]
  },
  {
   "cell_type": "markdown",
   "id": "bd970bbd-227a-4823-92a8-f5061b2bf6e8",
   "metadata": {},
   "source": [
    "`isna()` = method of series, returns a series indiciating which elements are NAs:\n"
   ]
  },
  {
   "cell_type": "code",
   "execution_count": 17,
   "id": "33897312-599e-468c-88c3-7db40906d704",
   "metadata": {
    "tags": []
   },
   "outputs": [
    {
     "data": {
      "text/plain": [
       "0    False\n",
       "1    False\n",
       "2     True\n",
       "3    False\n",
       "4     True\n",
       "dtype: bool"
      ]
     },
     "execution_count": 17,
     "metadata": {},
     "output_type": "execute_result"
    }
   ],
   "source": [
    "s.isna()"
   ]
  },
  {
   "cell_type": "markdown",
   "id": "da2bfdac-045c-4eab-988f-115b535ad937",
   "metadata": {
    "tags": []
   },
   "source": [
    "`bool`: `True` or `False` are **boolean values**"
   ]
  },
  {
   "cell_type": "markdown",
   "id": "1e109ea4-a95e-4c16-9369-46daa202d3f4",
   "metadata": {},
   "source": [
    "#DataFrames\n",
    "`pandas.DataFrame`:\n",
    "- the most used object in `pandas`\n",
    "- represenets tabular data ( think of a spreadsheet)\n",
    "- each column is a `pandas.Series`\n",
    "\n",
    "# Creating a `pandas.DataFrame`"
   ]
  },
  {
   "cell_type": "markdown",
   "id": "8baa9ad5-390a-45f4-b4e2-b7d015612a80",
   "metadata": {},
   "source": [
    "* Many ways of creating a dataframe. lets see one.\n",
    "\n",
    "Remember dictionaries? They are sets of key-value pairs:\n",
    "```\n",
    "{key 1:value 1,\n",
    "key2: value 2\n",
    "}\n",
    "\n",
    "```\n",
    "Think of a `pd.DataFrame` as a dictionary where:\n",
    "- keys = column names\n",
    "- values = column values\n",
    "\n",
    "We can create a dataframe like this:\n",
    "    "
   ]
  },
  {
   "cell_type": "code",
   "execution_count": 20,
   "id": "1ef382ad-c578-4a52-8eed-23f2e35be499",
   "metadata": {
    "tags": []
   },
   "outputs": [
    {
     "data": {
      "text/plain": [
       "{'col_name_1': array([0, 1, 2]), 'col_name_2': [3.1, 3.2, 3.3]}"
      ]
     },
     "execution_count": 20,
     "metadata": {},
     "output_type": "execute_result"
    }
   ],
   "source": [
    "#initialize dictionary with columns' data\n",
    "\n",
    "d = {'col_name_1': np.arange(3),\n",
    "     'col_name_2': [3.1, 3.2 ,3.3]\n",
    "    }\n",
    "d"
   ]
  },
  {
   "cell_type": "code",
   "execution_count": 21,
   "id": "898be30a-283e-4b95-afeb-29f9c9296bee",
   "metadata": {
    "tags": []
   },
   "outputs": [
    {
     "data": {
      "text/html": [
       "<div>\n",
       "<style scoped>\n",
       "    .dataframe tbody tr th:only-of-type {\n",
       "        vertical-align: middle;\n",
       "    }\n",
       "\n",
       "    .dataframe tbody tr th {\n",
       "        vertical-align: top;\n",
       "    }\n",
       "\n",
       "    .dataframe thead th {\n",
       "        text-align: right;\n",
       "    }\n",
       "</style>\n",
       "<table border=\"1\" class=\"dataframe\">\n",
       "  <thead>\n",
       "    <tr style=\"text-align: right;\">\n",
       "      <th></th>\n",
       "      <th>col_name_1</th>\n",
       "      <th>col_name_2</th>\n",
       "    </tr>\n",
       "  </thead>\n",
       "  <tbody>\n",
       "    <tr>\n",
       "      <th>0</th>\n",
       "      <td>0</td>\n",
       "      <td>3.1</td>\n",
       "    </tr>\n",
       "    <tr>\n",
       "      <th>1</th>\n",
       "      <td>1</td>\n",
       "      <td>3.2</td>\n",
       "    </tr>\n",
       "    <tr>\n",
       "      <th>2</th>\n",
       "      <td>2</td>\n",
       "      <td>3.3</td>\n",
       "    </tr>\n",
       "  </tbody>\n",
       "</table>\n",
       "</div>"
      ],
      "text/plain": [
       "   col_name_1  col_name_2\n",
       "0           0         3.1\n",
       "1           1         3.2\n",
       "2           2         3.3"
      ]
     },
     "execution_count": 21,
     "metadata": {},
     "output_type": "execute_result"
    }
   ],
   "source": [
    "# create a dataframe \n",
    "df = pd.DataFrame(d)\n",
    "df"
   ]
  },
  {
   "cell_type": "markdown",
   "id": "2490abb6-cb9a-4fc7-a089-f0d868baf265",
   "metadata": {},
   "source": [
    "# In place operations\n",
    "Let's rename the data frame's columns\n",
    "\n",
    "We can use a dataframe **method** called `rename`.\n",
    "`rename` takes in as an input a dictionary:\n",
    "\n",
    "```\n",
    "{'col_1_old_name' : 'col_1_new_name',\n",
    "'col_2_old_name' : 'col_2_new_name',\n",
    "}\n",
    "\n",
    "```"
   ]
  },
  {
   "cell_type": "code",
   "execution_count": 26,
   "id": "62047163-1d05-407c-9384-676a73f452e1",
   "metadata": {
    "tags": []
   },
   "outputs": [],
   "source": [
    "col_names = {'col_name_1': 'col_1',\n",
    "             'col_name_2' : 'col_2'}"
   ]
  },
  {
   "cell_type": "code",
   "execution_count": 27,
   "id": "6f35f18c-9c97-4600-b699-f0b5894e8b01",
   "metadata": {
    "tags": []
   },
   "outputs": [
    {
     "data": {
      "text/html": [
       "<div>\n",
       "<style scoped>\n",
       "    .dataframe tbody tr th:only-of-type {\n",
       "        vertical-align: middle;\n",
       "    }\n",
       "\n",
       "    .dataframe tbody tr th {\n",
       "        vertical-align: top;\n",
       "    }\n",
       "\n",
       "    .dataframe thead th {\n",
       "        text-align: right;\n",
       "    }\n",
       "</style>\n",
       "<table border=\"1\" class=\"dataframe\">\n",
       "  <thead>\n",
       "    <tr style=\"text-align: right;\">\n",
       "      <th></th>\n",
       "      <th>col_1</th>\n",
       "      <th>col_2</th>\n",
       "    </tr>\n",
       "  </thead>\n",
       "  <tbody>\n",
       "    <tr>\n",
       "      <th>0</th>\n",
       "      <td>0</td>\n",
       "      <td>3.1</td>\n",
       "    </tr>\n",
       "    <tr>\n",
       "      <th>1</th>\n",
       "      <td>1</td>\n",
       "      <td>3.2</td>\n",
       "    </tr>\n",
       "    <tr>\n",
       "      <th>2</th>\n",
       "      <td>2</td>\n",
       "      <td>3.3</td>\n",
       "    </tr>\n",
       "  </tbody>\n",
       "</table>\n",
       "</div>"
      ],
      "text/plain": [
       "   col_1  col_2\n",
       "0      0    3.1\n",
       "1      1    3.2\n",
       "2      2    3.3"
      ]
     },
     "execution_count": 27,
     "metadata": {},
     "output_type": "execute_result"
    }
   ],
   "source": [
    "df.rename(columns = col_names)"
   ]
  },
  {
   "cell_type": "code",
   "execution_count": 22,
   "id": "902fc8df-3174-47b6-9b4a-1119b11ab7a9",
   "metadata": {
    "tags": []
   },
   "outputs": [
    {
     "data": {
      "text/html": [
       "<div>\n",
       "<style scoped>\n",
       "    .dataframe tbody tr th:only-of-type {\n",
       "        vertical-align: middle;\n",
       "    }\n",
       "\n",
       "    .dataframe tbody tr th {\n",
       "        vertical-align: top;\n",
       "    }\n",
       "\n",
       "    .dataframe thead th {\n",
       "        text-align: right;\n",
       "    }\n",
       "</style>\n",
       "<table border=\"1\" class=\"dataframe\">\n",
       "  <thead>\n",
       "    <tr style=\"text-align: right;\">\n",
       "      <th></th>\n",
       "      <th>col_name_1</th>\n",
       "      <th>col_name_2</th>\n",
       "    </tr>\n",
       "  </thead>\n",
       "  <tbody>\n",
       "    <tr>\n",
       "      <th>0</th>\n",
       "      <td>0</td>\n",
       "      <td>3.1</td>\n",
       "    </tr>\n",
       "    <tr>\n",
       "      <th>1</th>\n",
       "      <td>1</td>\n",
       "      <td>3.2</td>\n",
       "    </tr>\n",
       "    <tr>\n",
       "      <th>2</th>\n",
       "      <td>2</td>\n",
       "      <td>3.3</td>\n",
       "    </tr>\n",
       "  </tbody>\n",
       "</table>\n",
       "</div>"
      ],
      "text/plain": [
       "   col_name_1  col_name_2\n",
       "0           0         3.1\n",
       "1           1         3.2\n",
       "2           2         3.3"
      ]
     },
     "execution_count": 22,
     "metadata": {},
     "output_type": "execute_result"
    }
   ],
   "source": [
    "#take a look at our dataframe\n",
    "df"
   ]
  },
  {
   "cell_type": "markdown",
   "id": "7f440b9e-8798-489d-9c25-0fe6b2db52ac",
   "metadata": {},
   "source": [
    "Nothing changed!\n",
    "`df.rename()` doesnt change the column in place, meaning it doesnt modify the object itself. Instead, it created a new object as an output\n"
   ]
  },
  {
   "cell_type": "code",
   "execution_count": 28,
   "id": "1fb66832-8fbe-483f-96b8-c873526ff193",
   "metadata": {
    "tags": []
   },
   "outputs": [
    {
     "data": {
      "text/html": [
       "<div>\n",
       "<style scoped>\n",
       "    .dataframe tbody tr th:only-of-type {\n",
       "        vertical-align: middle;\n",
       "    }\n",
       "\n",
       "    .dataframe tbody tr th {\n",
       "        vertical-align: top;\n",
       "    }\n",
       "\n",
       "    .dataframe thead th {\n",
       "        text-align: right;\n",
       "    }\n",
       "</style>\n",
       "<table border=\"1\" class=\"dataframe\">\n",
       "  <thead>\n",
       "    <tr style=\"text-align: right;\">\n",
       "      <th></th>\n",
       "      <th>col_1</th>\n",
       "      <th>col_2</th>\n",
       "    </tr>\n",
       "  </thead>\n",
       "  <tbody>\n",
       "    <tr>\n",
       "      <th>0</th>\n",
       "      <td>0</td>\n",
       "      <td>3.1</td>\n",
       "    </tr>\n",
       "    <tr>\n",
       "      <th>1</th>\n",
       "      <td>1</td>\n",
       "      <td>3.2</td>\n",
       "    </tr>\n",
       "    <tr>\n",
       "      <th>2</th>\n",
       "      <td>2</td>\n",
       "      <td>3.3</td>\n",
       "    </tr>\n",
       "  </tbody>\n",
       "</table>\n",
       "</div>"
      ],
      "text/plain": [
       "   col_1  col_2\n",
       "0      0    3.1\n",
       "1      1    3.2\n",
       "2      2    3.3"
      ]
     },
     "execution_count": 28,
     "metadata": {},
     "output_type": "execute_result"
    }
   ],
   "source": [
    "# Assign output back to dataframe\n",
    "df= df.rename(columns = col_names)\n",
    "df"
   ]
  }
 ],
 "metadata": {
  "kernelspec": {
   "display_name": "Anaconda 3 (Base)",
   "language": "python",
   "name": "base"
  },
  "language_info": {
   "codemirror_mode": {
    "name": "ipython",
    "version": 3
   },
   "file_extension": ".py",
   "mimetype": "text/x-python",
   "name": "python",
   "nbconvert_exporter": "python",
   "pygments_lexer": "ipython3",
   "version": "3.9.13"
  }
 },
 "nbformat": 4,
 "nbformat_minor": 5
}
